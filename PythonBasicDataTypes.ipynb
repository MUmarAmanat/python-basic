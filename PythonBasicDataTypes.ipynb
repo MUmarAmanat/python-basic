{
 "cells": [
  {
   "cell_type": "markdown",
   "metadata": {},
   "source": [
    "# Python Basic"
   ]
  },
  {
   "cell_type": "markdown",
   "metadata": {},
   "source": [
    "# Python Data Types"
   ]
  },
  {
   "cell_type": "markdown",
   "metadata": {},
   "source": [
    "Basic data types in python\n",
    "- Numbers\n",
    "- Strings\n",
    "- List\n",
    "- Dictionaries\n",
    "- Tuple"
   ]
  },
  {
   "cell_type": "markdown",
   "metadata": {},
   "source": [
    "## Numbers"
   ]
  },
  {
   "cell_type": "markdown",
   "metadata": {},
   "source": [
    "Python numbers contain:<br> \n",
    "`Integers` that have no fractional part, `decimals with fixed precision` numbers , `complex` number"
   ]
  },
  {
   "cell_type": "code",
   "execution_count": 74,
   "metadata": {},
   "outputs": [
    {
     "name": "stdout",
     "output_type": "stream",
     "text": [
      "Integer addition:  45\n",
      "Integer multiplication:  450\n",
      "Integer division:  2\n"
     ]
    }
   ],
   "source": [
    "# integer\n",
    "a = 30\n",
    "b = 15\n",
    "print(\"Integer addition: \", a + b)\n",
    "print(\"Integer multiplication: \", a * b)\n",
    "print(\"Integer division: \", int(a / b))"
   ]
  },
  {
   "cell_type": "code",
   "execution_count": 11,
   "metadata": {},
   "outputs": [
    {
     "name": "stdout",
     "output_type": "stream",
     "text": [
      "Decimal addition:  4.5\n",
      "Decimal multiplication:  4.5\n",
      "Deciam division 2.0\n",
      "Decimal number precision: %.2f 3.67\n"
     ]
    }
   ],
   "source": [
    "# decimal\n",
    "a = 3 # integer\n",
    "b = 1.5 # float\n",
    "print(\"Decimal addition: \", a + b) # by default python will cast result to float if one number is float\n",
    "print(\"Decimal multiplication: \", a * b)\n",
    "print(\"Deciam division\", a / b) # same case will be applicable as in decimal additions\n",
    "\n",
    "c = 3.666666666666666666666\n",
    "d = a + c\n",
    "d = \"%.2f\" % c # 2 digits precision\n",
    "print(\"Decimal number precision: \", d)"
   ]
  },
  {
   "cell_type": "code",
   "execution_count": 17,
   "metadata": {},
   "outputs": [
    {
     "name": "stdout",
     "output_type": "stream",
     "text": [
      "Real part:  2.0\n",
      "Imaginary part:  3.0\n",
      "Conjugate:  <built-in method conjugate of complex object at 0x000001A4CAEE3C70>\n",
      "Absolute of complex number  5.0\n",
      "Power operation on complex number:  (-7+24j)\n"
     ]
    }
   ],
   "source": [
    "#complex\n",
    "# python allow to play with complex number and can allow flexibility to simulate comlpex equation in pyhton\n",
    "z = 2 + 3j\n",
    "print(\"Real part: \", z.real)\n",
    "print(\"Imaginary part: \", z.imag)\n",
    "print(\"Conjugate: \", z.conjugate)\n",
    "print(\"Absolute of complex number \", abs(3 + 4j))\n",
    "print(\"Power operation on complex number: \", pow(3 + 4j, 2))"
   ]
  },
  {
   "cell_type": "markdown",
   "metadata": {},
   "source": [
    "### Number exercise"
   ]
  },
  {
   "cell_type": "markdown",
   "metadata": {},
   "source": [
    "`Q1`<br>\n",
    "Perform integral division and doesnot use \"int()\" for typecasting<br>\n",
    "a = 15 <br>\n",
    "b = 8\n",
    "\n",
    "output should be 1 <br>\n",
    "`HINT`: Find operator for integral division"
   ]
  },
  {
   "cell_type": "code",
   "execution_count": 79,
   "metadata": {},
   "outputs": [
    {
     "data": {
      "text/plain": [
       "1.875"
      ]
     },
     "execution_count": 79,
     "metadata": {},
     "output_type": "execute_result"
    }
   ],
   "source": [
    "a = 15\n",
    "b = 8\n",
    "a / b"
   ]
  },
  {
   "cell_type": "markdown",
   "metadata": {},
   "source": [
    "## Strings\n"
   ]
  },
  {
   "cell_type": "code",
   "execution_count": 20,
   "metadata": {},
   "outputs": [
    {
     "name": "stdout",
     "output_type": "stream",
     "text": [
      "This is string\n",
      "Also we can define in this way\n"
     ]
    }
   ],
   "source": [
    "# in python we can define strings in single and double quotations\n",
    "print(\"This is string\")\n",
    "print('Also we can define in this way')"
   ]
  },
  {
   "cell_type": "code",
   "execution_count": 24,
   "metadata": {},
   "outputs": [
    {
     "name": "stdout",
     "output_type": "stream",
     "text": [
      "Character at index 0  I\n",
      "Characters at index 7  t\n"
     ]
    }
   ],
   "source": [
    "# indexing in strings\n",
    "a = \"I am strings\"\n",
    "# we can treat this string as array of character, in python array can index using array[index_number]\n",
    "print(\"Character at index 0: \", a[0])\n",
    "print(\"Characters at index 7: \", a[7])"
   ]
  },
  {
   "cell_type": "code",
   "execution_count": 26,
   "metadata": {},
   "outputs": [
    {
     "name": "stdout",
     "output_type": "stream",
     "text": [
      "I a\n",
      "string\n"
     ]
    }
   ],
   "source": [
    "# Python allow to efficiently extract sub strings from main strings\n",
    "# In python slicing on array can be perform using array[start: end] # please note end is exclusive\n",
    "# array[inclusive: exclusive]\n",
    "print(a[0: 3])\n",
    "print(a[6: 12])"
   ]
  },
  {
   "cell_type": "code",
   "execution_count": 27,
   "metadata": {},
   "outputs": [
    {
     "name": "stdout",
     "output_type": "stream",
     "text": [
      "Last element of string a s\n",
      "Second last element of string a [-2]\n"
     ]
    }
   ],
   "source": [
    "# Exlusive python indexing \n",
    "# In python -1 mean from last of array -2 mean second last, -3 mean third from last\n",
    "print(\"Last element of string a\", a[-1])\n",
    "print(\"Second last element of string a\", [-2])"
   ]
  },
  {
   "cell_type": "code",
   "execution_count": 29,
   "metadata": {},
   "outputs": [
    {
     "name": "stdout",
     "output_type": "stream",
     "text": [
      "Substring from second last to onward:  gs\n"
     ]
    }
   ],
   "source": [
    "# [-2: ] mean select substring from second last of string a to onward\n",
    "print(\"Substring from second last to onward: \", a[-2: ])"
   ]
  },
  {
   "cell_type": "code",
   "execution_count": 32,
   "metadata": {},
   "outputs": [
    {
     "name": "stdout",
     "output_type": "stream",
     "text": [
      "is in string:  False\n",
      "am in string:  True\n"
     ]
    }
   ],
   "source": [
    "# Check elemment is in string or not\n",
    "sub = \"is\"\n",
    "print(\"is in string: \", (sub in a))\n",
    "sub = \"am\"\n",
    "print(\"am in string: \", (sub in a))"
   ]
  },
  {
   "cell_type": "code",
   "execution_count": 34,
   "metadata": {},
   "outputs": [
    {
     "ename": "TypeError",
     "evalue": "can only concatenate str (not \"int\") to str",
     "output_type": "error",
     "traceback": [
      "\u001b[1;31m---------------------------------------------------------------------------\u001b[0m",
      "\u001b[1;31mTypeError\u001b[0m                                 Traceback (most recent call last)",
      "\u001b[1;32m<ipython-input-34-26e08f59694e>\u001b[0m in \u001b[0;36m<module>\u001b[1;34m\u001b[0m\n\u001b[0;32m      1\u001b[0m \u001b[1;31m# Integer addition with string\u001b[0m\u001b[1;33m\u001b[0m\u001b[1;33m\u001b[0m\u001b[1;33m\u001b[0m\u001b[0m\n\u001b[0;32m      2\u001b[0m \u001b[0ma\u001b[0m \u001b[1;33m=\u001b[0m \u001b[1;36m36\u001b[0m\u001b[1;33m\u001b[0m\u001b[1;33m\u001b[0m\u001b[0m\n\u001b[1;32m----> 3\u001b[1;33m \u001b[0mb\u001b[0m \u001b[1;33m=\u001b[0m \u001b[1;34m\"This number is \"\u001b[0m \u001b[1;33m+\u001b[0m \u001b[0ma\u001b[0m\u001b[1;33m\u001b[0m\u001b[1;33m\u001b[0m\u001b[0m\n\u001b[0m",
      "\u001b[1;31mTypeError\u001b[0m: can only concatenate str (not \"int\") to str"
     ]
    }
   ],
   "source": [
    "# Integer addition with string\n",
    "a = 36\n",
    "b = \"This number is \" + a "
   ]
  },
  {
   "cell_type": "code",
   "execution_count": 35,
   "metadata": {},
   "outputs": [
    {
     "data": {
      "text/plain": [
       "'This number is 36'"
      ]
     },
     "execution_count": 35,
     "metadata": {},
     "output_type": "execute_result"
    }
   ],
   "source": [
    "# to remove above error we have to explicitly cast number to str\n",
    "b = \"This number is \" + str(a)\n",
    "b"
   ]
  },
  {
   "cell_type": "code",
   "execution_count": 38,
   "metadata": {},
   "outputs": [
    {
     "data": {
      "text/plain": [
       "'This number is 36'"
      ]
     },
     "execution_count": 38,
     "metadata": {},
     "output_type": "execute_result"
    }
   ],
   "source": [
    "# Other language allow string interpolation, while pyhton also allow this feasibility\n",
    "# this come in handy during complex string operations\n",
    "# format which is string function can automaticaally cast integer to string\n",
    "b = \"This number is {}\".format(a)\n",
    "b"
   ]
  },
  {
   "cell_type": "code",
   "execution_count": 45,
   "metadata": {},
   "outputs": [],
   "source": [
    "import json"
   ]
  },
  {
   "cell_type": "code",
   "execution_count": 53,
   "metadata": {},
   "outputs": [],
   "source": [
    "# We can also create string using \"\"\" \"\"\"\n",
    "# \"\"\"\"\"\" this come in  handy when we have to create string to represent json in pyhton file\n",
    "json_string = \"\"\"\n",
    "{\n",
    "    \"String\": {\"A\": \"I am a\", \"B\": \"I am b\"},\n",
    "    \"Number\": {\"one\": 1, \"two\": 2} \n",
    "}\n",
    "\n",
    "\"\"\""
   ]
  },
  {
   "cell_type": "code",
   "execution_count": 54,
   "metadata": {},
   "outputs": [
    {
     "data": {
      "text/plain": [
       "{'String': {'A': 'I am a', 'B': 'I am b'}, 'Number': {'one': 1, 'two': 2}}"
      ]
     },
     "execution_count": 54,
     "metadata": {},
     "output_type": "execute_result"
    }
   ],
   "source": [
    "json.loads(json_string)"
   ]
  },
  {
   "cell_type": "code",
   "execution_count": 61,
   "metadata": {},
   "outputs": [
    {
     "name": "stdout",
     "output_type": "stream",
     "text": [
      "Capitalize me:  I am string\n",
      "Is 'I' in string Yes/No  2\n"
     ]
    }
   ],
   "source": [
    "# By default python allow various function on string\n",
    "a = \"i am string\" # Convert fist caharacter to upper case\n",
    "print(\"Capitalize me: \", a.capitalize())\n",
    "print(\"Is 'I' in string Yes/No \", a.find(\"am\")) # return starting index if match otherwise return -1\n"
   ]
  },
  {
   "cell_type": "code",
   "execution_count": 69,
   "metadata": {},
   "outputs": [
    {
     "data": {
      "text/plain": [
       "'I am string'"
      ]
     },
     "execution_count": 69,
     "metadata": {},
     "output_type": "execute_result"
    }
   ],
   "source": [
    "# Join function, often use in python\n",
    "# join items in iterable with mentioned seperator\n",
    "a = [\"I\", \" am\", \" string\"]\n",
    "\"\".join(a)"
   ]
  },
  {
   "cell_type": "code",
   "execution_count": 86,
   "metadata": {},
   "outputs": [
    {
     "data": {
      "text/plain": [
       "'HiHiHiHi'"
      ]
     },
     "execution_count": 86,
     "metadata": {},
     "output_type": "execute_result"
    }
   ],
   "source": [
    "# string multiplcation with inetger\n",
    "a = \"Hi\"\n",
    "a * 4    # this will replicate string to 4 time"
   ]
  },
  {
   "cell_type": "code",
   "execution_count": null,
   "metadata": {},
   "outputs": [],
   "source": []
  },
  {
   "cell_type": "markdown",
   "metadata": {},
   "source": [
    "### String exercises"
   ]
  },
  {
   "cell_type": "markdown",
   "metadata": {},
   "source": [
    "`Q1`<br>\n",
    "Here is number a = 10\n",
    "write python program to append \"00\" at start. Best to use string builtin function<br>\n",
    "Final output could be 0010\n"
   ]
  },
  {
   "cell_type": "code",
   "execution_count": 62,
   "metadata": {},
   "outputs": [],
   "source": [
    "a = 10\n",
    "# final output should be 0010"
   ]
  },
  {
   "cell_type": "markdown",
   "metadata": {},
   "source": [
    "`Q2`<br>\n",
    "Write programm to fill gap with $ as seperator"
   ]
  },
  {
   "cell_type": "code",
   "execution_count": 71,
   "metadata": {},
   "outputs": [
    {
     "data": {
      "text/plain": [
       "'I$am$string'"
      ]
     },
     "execution_count": 71,
     "metadata": {},
     "output_type": "execute_result"
    }
   ],
   "source": [
    "a = [\"I\", \"am\", \"string\"]\n",
    "# final output shoul be I$am$string\n",
    "# Hint use join operator"
   ]
  },
  {
   "cell_type": "code",
   "execution_count": null,
   "metadata": {},
   "outputs": [],
   "source": []
  },
  {
   "cell_type": "markdown",
   "metadata": {},
   "source": [
    "## List"
   ]
  },
  {
   "cell_type": "code",
   "execution_count": 81,
   "metadata": {},
   "outputs": [],
   "source": [
    "# List is same as array in other language\n",
    "# List are mutable mean you can change them after their definition\n",
    "# in python array start at index 0"
   ]
  },
  {
   "cell_type": "code",
   "execution_count": 98,
   "metadata": {},
   "outputs": [
    {
     "name": "stdout",
     "output_type": "stream",
     "text": [
      "I am a list:  [11, 2, 19, 4]\n"
     ]
    }
   ],
   "source": [
    "lst = [11, 2, 19, 4]\n",
    "print(\"I am a list: \", lst)"
   ]
  },
  {
   "cell_type": "code",
   "execution_count": 114,
   "metadata": {},
   "outputs": [
    {
     "name": "stdout",
     "output_type": "stream",
     "text": [
      "Item a index 0 11\n",
      "Last item 4\n",
      "Item from 2nd index and onward  [19, 4]\n",
      "Item from 1 index to 4 exclusive  [2, 19]\n"
     ]
    }
   ],
   "source": [
    "# Slicing of list is same as we did in string \n",
    "print(\"Item a index 0\", lst[0]) \n",
    "print(\"Last item\", lst[-1])\n",
    "print(\"Item from 2nd index and onward \", lst[2: ])\n",
    "\n",
    "# list[inclusive: exclusive]\n",
    "print(\"Item from 1 index to 4 exclusive \", lst[1: 3])"
   ]
  },
  {
   "cell_type": "code",
   "execution_count": 99,
   "metadata": {},
   "outputs": [
    {
     "data": {
      "text/plain": [
       "[11, 2, 19, 4, 3, 4, 5, 9]"
      ]
     },
     "execution_count": 99,
     "metadata": {},
     "output_type": "execute_result"
    }
   ],
   "source": [
    "lst_2 = [3, 4, 5, 9]\n",
    "\n",
    "# adding two list will concatenate list instead of adding element\n",
    "lst + lst_2"
   ]
  },
  {
   "cell_type": "code",
   "execution_count": 100,
   "metadata": {},
   "outputs": [
    {
     "data": {
      "text/plain": [
       "[11, 2, 19, 4, 11, 2, 19, 4, 11, 2, 19, 4]"
      ]
     },
     "execution_count": 100,
     "metadata": {},
     "output_type": "execute_result"
    }
   ],
   "source": [
    "# Mutiple opertor on list\n",
    "\n",
    "lst * 3  # this will create 3 list same as \"lst\" and then concatenate them"
   ]
  },
  {
   "cell_type": "code",
   "execution_count": 101,
   "metadata": {},
   "outputs": [
    {
     "name": "stdout",
     "output_type": "stream",
     "text": [
      "11\n",
      "2\n",
      "19\n",
      "4\n"
     ]
    }
   ],
   "source": [
    "# iterate over list\n",
    "for i in lst:\n",
    "    print(i)"
   ]
  },
  {
   "cell_type": "code",
   "execution_count": 102,
   "metadata": {},
   "outputs": [
    {
     "data": {
      "text/plain": [
       "4"
      ]
     },
     "execution_count": 102,
     "metadata": {},
     "output_type": "execute_result"
    }
   ],
   "source": [
    "# lenght of list\n",
    "len(lst)"
   ]
  },
  {
   "cell_type": "code",
   "execution_count": 103,
   "metadata": {},
   "outputs": [],
   "source": [
    "# we can use len() on any iterable including string"
   ]
  },
  {
   "cell_type": "code",
   "execution_count": 170,
   "metadata": {},
   "outputs": [
    {
     "name": "stdout",
     "output_type": "stream",
     "text": [
      "prev list:  [11, 20, 9, 40]\n",
      "new lst:  [11, 50, 9, 40]\n"
     ]
    }
   ],
   "source": [
    "# changing element value in lst\n",
    "l = [11, 20, 9, 40]\n",
    "print(\"prev list: \", l)\n",
    "l[1] = 50\n",
    "print(\"new lst: \", l)"
   ]
  },
  {
   "cell_type": "code",
   "execution_count": 171,
   "metadata": {},
   "outputs": [
    {
     "name": "stdout",
     "output_type": "stream",
     "text": [
      "prev list:  [11, 50, 9, 40]\n",
      "new lst:  [11, 50, 9, 40, 100]\n"
     ]
    }
   ],
   "source": [
    "# adding element in lst\n",
    "print(\"prev list: \", l)\n",
    "l.append(100)\n",
    "print(\"new lst: \", l)"
   ]
  },
  {
   "cell_type": "code",
   "execution_count": 172,
   "metadata": {},
   "outputs": [
    {
     "name": "stdout",
     "output_type": "stream",
     "text": [
      "prev list:  [11, 50, 9, 40, 100]\n",
      "new lst:  [11, 50, 40, 100]\n"
     ]
    }
   ],
   "source": [
    "# removing element in lst\n",
    "# we can do this using .pop(index)\n",
    "print(\"prev list: \", l)\n",
    "l.pop(2)\n",
    "print(\"new lst: \", l)"
   ]
  },
  {
   "cell_type": "code",
   "execution_count": 173,
   "metadata": {},
   "outputs": [
    {
     "name": "stdout",
     "output_type": "stream",
     "text": [
      "prev list:  [11, 50, 40, 100]\n",
      "new lst:  [11, 40, 100]\n"
     ]
    }
   ],
   "source": [
    "# removing first match element by value in lst\n",
    "print(\"prev list: \", l)\n",
    "l.remove(50)\n",
    "print(\"new lst: \", l)"
   ]
  },
  {
   "cell_type": "code",
   "execution_count": null,
   "metadata": {},
   "outputs": [],
   "source": []
  },
  {
   "cell_type": "code",
   "execution_count": 104,
   "metadata": {},
   "outputs": [
    {
     "name": "stdout",
     "output_type": "stream",
     "text": [
      "11\n",
      "2\n",
      "19\n",
      "4\n"
     ]
    }
   ],
   "source": [
    "# iterating over list using indexing\n",
    "# range allow us to iterate over iterable, it create array of 0 to mentioned item a\n",
    "# and use those items to allow is us to iterate over list\n",
    "for ind in range(len(lst)):\n",
    "    print(lst[ind])"
   ]
  },
  {
   "cell_type": "code",
   "execution_count": 107,
   "metadata": {},
   "outputs": [
    {
     "name": "stdout",
     "output_type": "stream",
     "text": [
      "Item 11 is at index 0\n",
      "Item 2 is at index 1\n",
      "Item 19 is at index 2\n",
      "Item 4 is at index 3\n"
     ]
    }
   ],
   "source": [
    "# iterating over list item and index simultaneously \n",
    "# use enumerate for index\n",
    "for ind, item in enumerate(lst):\n",
    "    print(\"Item {} is at index {}\".format(item, ind))"
   ]
  },
  {
   "cell_type": "code",
   "execution_count": 108,
   "metadata": {},
   "outputs": [
    {
     "name": "stdout",
     "output_type": "stream",
     "text": [
      "List one item 11, list two item 3\n",
      "List one item 2, list two item 4\n",
      "List one item 19, list two item 5\n",
      "List one item 4, list two item 9\n"
     ]
    }
   ],
   "source": [
    "# iterating over two list simultaneouly\n",
    "# zip operator allow us to iterate over two list at same time\n",
    "for l1, l2 in zip(lst, lst_2):\n",
    "    print(\"List one item {}, list two item {}\".format(l1, l2))"
   ]
  },
  {
   "cell_type": "code",
   "execution_count": 132,
   "metadata": {},
   "outputs": [
    {
     "data": {
      "text/plain": [
       "[1, 4, 7, 10]"
      ]
     },
     "execution_count": 132,
     "metadata": {},
     "output_type": "execute_result"
    }
   ],
   "source": [
    "# advanced item selection in list\n",
    "# bump over every n'th divisible item \n",
    "lst = [1, 2, 3, 4, 5, 6, 7, 8, 9, 10]\n",
    "lst[::3]"
   ]
  },
  {
   "cell_type": "code",
   "execution_count": 136,
   "metadata": {},
   "outputs": [
    {
     "data": {
      "text/plain": [
       "[0, 2, 4, 6, 8, 10, 12, 14, 16, 18]"
      ]
     },
     "execution_count": 136,
     "metadata": {},
     "output_type": "execute_result"
    }
   ],
   "source": [
    "# List comprehension\n",
    "# list comprehension is very powerful feature in python language\n",
    "# it allow to comprehend list using minimal and understandable code\n",
    "num = [i+i for i in range(0, 10)]\n",
    "num"
   ]
  },
  {
   "cell_type": "code",
   "execution_count": null,
   "metadata": {},
   "outputs": [],
   "source": []
  },
  {
   "cell_type": "markdown",
   "metadata": {},
   "source": [
    "### List exercise"
   ]
  },
  {
   "cell_type": "markdown",
   "metadata": {},
   "source": [
    "`Q1`\n",
    "Select item in list from last 5th item to 2nd last item"
   ]
  },
  {
   "cell_type": "code",
   "execution_count": 137,
   "metadata": {},
   "outputs": [
    {
     "data": {
      "text/plain": [
       "[6, 7, 8]"
      ]
     },
     "execution_count": 137,
     "metadata": {},
     "output_type": "execute_result"
    }
   ],
   "source": [
    "lst = [1, 2, 3, 4, 5, 6, 7, 8, 9, 10]\n",
    "lst[]\n",
    "output should be [6, 7, 8]"
   ]
  },
  {
   "cell_type": "markdown",
   "metadata": {},
   "source": [
    "`Q2` Select and bump over every 2nd number but from right side of list\n"
   ]
  },
  {
   "cell_type": "code",
   "execution_count": 138,
   "metadata": {},
   "outputs": [
    {
     "data": {
      "text/plain": [
       "[10, 8, 6, 4, 2]"
      ]
     },
     "execution_count": 138,
     "metadata": {},
     "output_type": "execute_result"
    }
   ],
   "source": [
    "lst[]\n",
    "# output should be [10, 8, 6, 4, 2]"
   ]
  },
  {
   "cell_type": "markdown",
   "metadata": {},
   "source": [
    "`Q3` Create list of square from 1 to 10 using list comprehension"
   ]
  },
  {
   "cell_type": "code",
   "execution_count": 141,
   "metadata": {},
   "outputs": [
    {
     "data": {
      "text/plain": [
       "[0, 1, 4, 9, 16, 25, 36, 49, 64, 81, 100]"
      ]
     },
     "execution_count": 141,
     "metadata": {},
     "output_type": "execute_result"
    }
   ],
   "source": [
    "squares = [#using list comprehension]\n",
    "\n",
    "# output should be [0, 1, 4, 9, 16, 25, 36, 49, 64, 81, 100]"
   ]
  },
  {
   "cell_type": "code",
   "execution_count": null,
   "metadata": {},
   "outputs": [],
   "source": []
  },
  {
   "cell_type": "markdown",
   "metadata": {},
   "source": [
    "## Dictionary"
   ]
  },
  {
   "cell_type": "code",
   "execution_count": 159,
   "metadata": {},
   "outputs": [],
   "source": [
    "# python have another powerfull data type which is dictionary\n",
    "# dictionary allow us to store complex data in key value fashion\n",
    "# Dictionary have key, value pair, we use key to fetch partiuclar value\n",
    "# Dictionary can create using curly braces {}\n",
    "\n",
    "dct = {'a': 1, 'b': 2, 'c': 3}"
   ]
  },
  {
   "cell_type": "code",
   "execution_count": 143,
   "metadata": {},
   "outputs": [
    {
     "data": {
      "text/plain": [
       "2"
      ]
     },
     "execution_count": 143,
     "metadata": {},
     "output_type": "execute_result"
    }
   ],
   "source": [
    "# accesing list item can be done using key \n",
    "dct['b'] "
   ]
  },
  {
   "cell_type": "code",
   "execution_count": 145,
   "metadata": {},
   "outputs": [
    {
     "data": {
      "text/plain": [
       "2"
      ]
     },
     "execution_count": 145,
     "metadata": {},
     "output_type": "execute_result"
    }
   ],
   "source": [
    "# we can also acces ugin dict builtin .get(\"key\") method\n",
    "dct.get(\"b\")"
   ]
  },
  {
   "cell_type": "code",
   "execution_count": 148,
   "metadata": {},
   "outputs": [
    {
     "name": "stdout",
     "output_type": "stream",
     "text": [
      "1\n",
      "2\n",
      "3\n"
     ]
    }
   ],
   "source": [
    "# iterating over dictionaries\n",
    "for value in dct: # NOTE value will be key here\n",
    "    print(dct[value])"
   ]
  },
  {
   "cell_type": "code",
   "execution_count": 149,
   "metadata": {},
   "outputs": [
    {
     "name": "stdout",
     "output_type": "stream",
     "text": [
      "Dict key a have value 1\n",
      "Dict key b have value 2\n",
      "Dict key c have value 3\n"
     ]
    }
   ],
   "source": [
    "# iterating over keys as well as value\n",
    "for key, value in dct.items():\n",
    "    print(\"Dict key {} have value {}\".format(key, value))"
   ]
  },
  {
   "cell_type": "code",
   "execution_count": 151,
   "metadata": {},
   "outputs": [
    {
     "data": {
      "text/plain": [
       "3"
      ]
     },
     "execution_count": 151,
     "metadata": {},
     "output_type": "execute_result"
    }
   ],
   "source": [
    "# we can use len to get length  of dictionary\n",
    "len(dct)   # get length of dictionary based on keys"
   ]
  },
  {
   "cell_type": "code",
   "execution_count": 155,
   "metadata": {},
   "outputs": [
    {
     "name": "stdout",
     "output_type": "stream",
     "text": [
      "Previous dic:  {'a': 1, 'b': 2, 'c': 3}\n",
      "new dic:  {'a': 1, 'b': 2, 'c': 10}\n"
     ]
    }
   ],
   "source": [
    "# As dict is mutable we can change its value by giving key\n",
    "print(\"Previous dict: \", dct)\n",
    "dct[\"c\"] = 10\n",
    "print(\"new dict: \", dct)"
   ]
  },
  {
   "cell_type": "code",
   "execution_count": 156,
   "metadata": {},
   "outputs": [
    {
     "data": {
      "text/plain": [
       "{'a': 1, 'b': 2, 'c': 10, 'd': 20}"
      ]
     },
     "execution_count": 156,
     "metadata": {},
     "output_type": "execute_result"
    }
   ],
   "source": [
    "# adding item in dict \n",
    "dct[\"d\"] = 20\n",
    "dct"
   ]
  },
  {
   "cell_type": "code",
   "execution_count": 160,
   "metadata": {},
   "outputs": [
    {
     "data": {
      "text/plain": [
       "{'a': 1, 'b': 2}"
      ]
     },
     "execution_count": 160,
     "metadata": {},
     "output_type": "execute_result"
    }
   ],
   "source": [
    "# removing item\n",
    "# we can use .pop(key) item to remove\n",
    "dct.pop(\"c\")\n",
    "dct"
   ]
  },
  {
   "cell_type": "code",
   "execution_count": null,
   "metadata": {},
   "outputs": [],
   "source": [
    "# we can also use del to remove item\n",
    "del dct[\"a\"]"
   ]
  },
  {
   "cell_type": "code",
   "execution_count": 161,
   "metadata": {},
   "outputs": [
    {
     "data": {
      "text/plain": [
       "{'a': 'Apple', 'b': 'Banana'}"
      ]
     },
     "execution_count": 161,
     "metadata": {},
     "output_type": "execute_result"
    }
   ],
   "source": [
    "# we can also create dict using dict()\n",
    "dct = dict(a=\"Apple\", b=\"Banana\")\n",
    "dct"
   ]
  },
  {
   "cell_type": "code",
   "execution_count": null,
   "metadata": {},
   "outputs": [],
   "source": []
  },
  {
   "cell_type": "markdown",
   "metadata": {},
   "source": [
    "### Exercise"
   ]
  },
  {
   "cell_type": "markdown",
   "metadata": {},
   "source": [
    "`Q1` Create dictionary which represent 7 color heatmap. <br>\n",
    "Dictionary should have keys 0 to 6 which represent color intensities, and value as their corresponding <br>\n",
    "color code"
   ]
  },
  {
   "cell_type": "code",
   "execution_count": null,
   "metadata": {},
   "outputs": [],
   "source": []
  },
  {
   "cell_type": "markdown",
   "metadata": {},
   "source": [
    "## Tuple"
   ]
  },
  {
   "cell_type": "code",
   "execution_count": 176,
   "metadata": {},
   "outputs": [
    {
     "data": {
      "text/plain": [
       "('one', 1, 4, 'hi')"
      ]
     },
     "execution_count": 176,
     "metadata": {},
     "output_type": "execute_result"
    }
   ],
   "source": [
    "# tuple is immutable in python and can be created using round braces\n",
    "tup = ('one', 1, 4, \"hi\")\n",
    "tup"
   ]
  },
  {
   "cell_type": "code",
   "execution_count": 178,
   "metadata": {},
   "outputs": [
    {
     "name": "stdout",
     "output_type": "stream",
     "text": [
      "Value at 0 index  one\n",
      "Value between 0 and 3  ('one', 1, 4)\n"
     ]
    }
   ],
   "source": [
    "# slicing of tuple is same as of list\n",
    "print(\"Value at 0 index \", tup[0])\n",
    "print(\"Value between 0 and 3 \", tup[0: 3])"
   ]
  },
  {
   "cell_type": "code",
   "execution_count": 179,
   "metadata": {},
   "outputs": [
    {
     "ename": "TypeError",
     "evalue": "'tuple' object does not support item assignment",
     "output_type": "error",
     "traceback": [
      "\u001b[1;31m---------------------------------------------------------------------------\u001b[0m",
      "\u001b[1;31mTypeError\u001b[0m                                 Traceback (most recent call last)",
      "\u001b[1;32m<ipython-input-179-1488c1b5908b>\u001b[0m in \u001b[0;36m<module>\u001b[1;34m\u001b[0m\n\u001b[0;32m      1\u001b[0m \u001b[1;31m# changing tuple value\u001b[0m\u001b[1;33m\u001b[0m\u001b[1;33m\u001b[0m\u001b[1;33m\u001b[0m\u001b[0m\n\u001b[1;32m----> 2\u001b[1;33m \u001b[0mtup\u001b[0m\u001b[1;33m[\u001b[0m\u001b[1;36m1\u001b[0m\u001b[1;33m]\u001b[0m \u001b[1;33m=\u001b[0m \u001b[1;34m\"two\"\u001b[0m\u001b[1;33m\u001b[0m\u001b[1;33m\u001b[0m\u001b[0m\n\u001b[0m",
      "\u001b[1;31mTypeError\u001b[0m: 'tuple' object does not support item assignment"
     ]
    }
   ],
   "source": [
    "# changing tuple value\n",
    "tup[1] = \"two\""
   ]
  },
  {
   "cell_type": "markdown",
   "metadata": {},
   "source": [
    "Changing tuple value will raise error because we cannot change value of tuple once it created\n"
   ]
  },
  {
   "cell_type": "code",
   "execution_count": 180,
   "metadata": {},
   "outputs": [
    {
     "name": "stdout",
     "output_type": "stream",
     "text": [
      "one\n",
      "1\n",
      "4\n",
      "hi\n"
     ]
    }
   ],
   "source": [
    "# iterating over tuple \n",
    "for i in tup:\n",
    "    print(i)"
   ]
  },
  {
   "cell_type": "code",
   "execution_count": 181,
   "metadata": {},
   "outputs": [
    {
     "data": {
      "text/plain": [
       "False"
      ]
     },
     "execution_count": 181,
     "metadata": {},
     "output_type": "execute_result"
    }
   ],
   "source": [
    "# check if item is in tuple or not\n",
    "5 in tup"
   ]
  },
  {
   "cell_type": "code",
   "execution_count": 182,
   "metadata": {},
   "outputs": [
    {
     "data": {
      "text/plain": [
       "True"
      ]
     },
     "execution_count": 182,
     "metadata": {},
     "output_type": "execute_result"
    }
   ],
   "source": [
    "1 in tup"
   ]
  },
  {
   "cell_type": "code",
   "execution_count": 183,
   "metadata": {},
   "outputs": [],
   "source": [
    "# as tuple is immutable we can add, delete or change tuple values"
   ]
  },
  {
   "cell_type": "code",
   "execution_count": null,
   "metadata": {},
   "outputs": [],
   "source": []
  },
  {
   "cell_type": "code",
   "execution_count": null,
   "metadata": {},
   "outputs": [],
   "source": []
  },
  {
   "cell_type": "code",
   "execution_count": null,
   "metadata": {},
   "outputs": [],
   "source": []
  },
  {
   "cell_type": "code",
   "execution_count": null,
   "metadata": {},
   "outputs": [],
   "source": []
  },
  {
   "cell_type": "code",
   "execution_count": null,
   "metadata": {},
   "outputs": [],
   "source": []
  },
  {
   "cell_type": "code",
   "execution_count": null,
   "metadata": {},
   "outputs": [],
   "source": []
  }
 ],
 "metadata": {
  "kernelspec": {
   "display_name": "Python 3",
   "language": "python",
   "name": "python3"
  },
  "language_info": {
   "codemirror_mode": {
    "name": "ipython",
    "version": 3
   },
   "file_extension": ".py",
   "mimetype": "text/x-python",
   "name": "python",
   "nbconvert_exporter": "python",
   "pygments_lexer": "ipython3",
   "version": "3.7.4"
  }
 },
 "nbformat": 4,
 "nbformat_minor": 2
}
